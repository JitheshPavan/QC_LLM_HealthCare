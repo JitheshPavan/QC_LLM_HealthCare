{
  "nbformat": 4,
  "nbformat_minor": 0,
  "metadata": {
    "colab": {
      "provenance": [],
      "collapsed_sections": [
        "ZHRHHqrPleKg",
        "Jk0eaXhO1_-1"
      ],
      "authorship_tag": "ABX9TyPdo8ZxiqFIPVd4zcc5Gq83",
      "include_colab_link": true
    },
    "kernelspec": {
      "name": "python3",
      "display_name": "Python 3"
    },
    "language_info": {
      "name": "python"
    }
  },
  "cells": [
    {
      "cell_type": "markdown",
      "metadata": {
        "id": "view-in-github",
        "colab_type": "text"
      },
      "source": [
        "<a href=\"https://colab.research.google.com/github/JitheshPavan/QC_LLM_HealthCare/blob/main/MakeMore_Classical_LLMs.ipynb\" target=\"_parent\"><img src=\"https://colab.research.google.com/assets/colab-badge.svg\" alt=\"Open In Colab\"/></a>"
      ]
    },
    {
      "cell_type": "code",
      "source": [
        "import requests\n",
        "import numpy as np\n",
        "import torch\n",
        "import torch.nn.functional as F\n",
        "import matplotlib.pyplot as plt\n",
        "url='https://raw.githubusercontent.com/karpathy/makemore/master/names.txt'\n",
        "txt=requests.get(url).text\n",
        "words=txt.splitlines()"
      ],
      "metadata": {
        "id": "gy--0I3OliHn"
      },
      "execution_count": null,
      "outputs": []
    },
    {
      "cell_type": "code",
      "source": [
        "#Lookup Table\n",
        "chars= sorted(list(set(\"\".join(words)))) # set is a list where duplication not possible\n",
        "stoi ={s:i+1 for i,s in enumerate(chars)}\n",
        "stoi['.']=0\n",
        "itos= {i:s for s,i in stoi.items()}"
      ],
      "metadata": {
        "id": "d-tAqiX7mNuz"
      },
      "execution_count": null,
      "outputs": []
    },
    {
      "cell_type": "code",
      "source": [
        "# stoi"
      ],
      "metadata": {
        "id": "4g2rRK9NvV4j"
      },
      "execution_count": null,
      "outputs": []
    },
    {
      "cell_type": "markdown",
      "source": [
        "#Bigram Model, No Parameters\n"
      ],
      "metadata": {
        "id": "Si6_noAnlYkq"
      }
    },
    {
      "cell_type": "code",
      "execution_count": null,
      "metadata": {
        "id": "h2Sg6_v0qgSq"
      },
      "outputs": [],
      "source": [
        "b={}\n",
        "for w in words:\n",
        "  chs= ['<S>']+ list(w)+ ['<E>']\n",
        "  for bigram in zip(chs, chs[1:]):\n",
        "    b[bigram]= b.get(bigram,0)+1"
      ]
    },
    {
      "cell_type": "code",
      "source": [
        "# sorted(b.items(), key= lambda kv: -kv[1]"
      ],
      "metadata": {
        "id": "_fZb0Vp7xc9r"
      },
      "execution_count": null,
      "outputs": []
    },
    {
      "cell_type": "code",
      "source": [
        "# a= torch.zeros((27,27),dtype=torch.int32)\n",
        "# keys=list(b.keys())\n",
        "# values= list(b.values())\n",
        "# for i in range(len(list(b))):\n",
        "#   ch1,ch2 =keys[i]\n",
        "#   j,l=0,27\n",
        "#   if not (ch1=='<S>'):\n",
        "#     j=ord(ch1)-96\n",
        "#   if not (ch2=='<E>'):\n",
        "#     l=ord(ch2)-96\n",
        "#   a[j,l]= values[i]"
      ],
      "metadata": {
        "id": "5_GUggV50222"
      },
      "execution_count": null,
      "outputs": []
    },
    {
      "cell_type": "code",
      "source": [
        "chars= sorted(list(set(\"\".join(words))))\n",
        "stoi ={s:i+1 for i,s in enumerate(chars)}\n",
        "stoi['.']=0\n",
        "itos= {i:s for s,i in stoi.items()}"
      ],
      "metadata": {
        "id": "XkBLtMVr1qhE"
      },
      "execution_count": null,
      "outputs": []
    },
    {
      "cell_type": "code",
      "source": [
        "N= torch.zeros((27,27),dtype=torch.int32)\n",
        "for w in words:\n",
        "  chs= ['.']+ list(w)+ ['.']\n",
        "  for ch1,ch2 in zip(chs, chs[1:]):\n",
        "    ix1= stoi[ch1]\n",
        "    ix2= stoi[ch2]\n",
        "    N[ix1,ix2] +=1"
      ],
      "metadata": {
        "id": "S_4BwR5M268F"
      },
      "execution_count": null,
      "outputs": []
    },
    {
      "cell_type": "code",
      "source": [
        "# import matplotlib.pyplot as plt\n",
        "# %matplotlib inline\n",
        "# plt.figure(figsize=(16,16))\n",
        "# plt.imshow(N,cmap='Blues')\n",
        "# for i in range(27):\n",
        "#   for j in range(27):\n",
        "#     chstr= itos[i]+ itos[j]\n",
        "#     plt.text(j,i,chstr,ha=\"center\", va=\"bottom\",color='gray')\n",
        "#     plt.text(j,i+0.3 ,N[i,j].item(), ha=\"center\", va=\"bottom\",color='gray')\n",
        "# plt.axis('off')"
      ],
      "metadata": {
        "id": "IDw9Bk1X8hkH"
      },
      "execution_count": null,
      "outputs": []
    },
    {
      "cell_type": "code",
      "source": [
        "#27,27\n",
        "#27,1"
      ],
      "metadata": {
        "id": "EVkpVarwHN3_"
      },
      "execution_count": null,
      "outputs": []
    },
    {
      "cell_type": "code",
      "source": [
        "P= (N+1).float() # 1 added because model smoothing, so that there is no sudden jump. Loss will be inf if there is 0\n",
        "P /= P.sum(1, keepdim=True) #inplace operation\n",
        "# N[:,1].sum() == N[1,:].sum(). Because you reach a char and then you go from that char to a new char. So both of the sum will be the same."
      ],
      "metadata": {
        "id": "aHNTQo-RGoJD"
      },
      "execution_count": null,
      "outputs": []
    },
    {
      "cell_type": "code",
      "source": [
        "g= torch.Generator().manual_seed(2147483647)\n",
        "for i in range(5):\n",
        "  loss=0.0\n",
        "  ix=0\n",
        "  out=[]\n",
        "  while True:\n",
        "    ix1=ix\n",
        "    ix= torch.multinomial(P[ix,:],num_samples=1,replacement=True, generator=None).item()\n",
        "    out.append(itos[ix])\n",
        "    loss += -1*torch.log(P[ix1,ix])\n",
        "    if ix==0:\n",
        "      break\n",
        "  new_word=\"\".join(out)\n",
        "  print(f'word={new_word}; Negative Log Likelihood= {loss/len(list(new_word))}')\n",
        "#It is bad because bigram model is bad. Only considering two words at once is unsophisticated"
      ],
      "metadata": {
        "colab": {
          "base_uri": "https://localhost:8080/"
        },
        "id": "Quru1GRx9keN",
        "outputId": "df86c8d2-a6c3-4f50-c98c-41e3439abb51"
      },
      "execution_count": null,
      "outputs": [
        {
          "output_type": "stream",
          "name": "stdout",
          "text": [
            "word=sikae.; Negative Log Likelihood= 2.583893060684204\n",
            "word=kyara.; Negative Log Likelihood= 2.024794816970825\n",
            "word=ke.; Negative Log Likelihood= 1.9164432287216187\n",
            "word=fannetorei.; Negative Log Likelihood= 2.4798879623413086\n",
            "word=jeuronylynn.; Negative Log Likelihood= 2.4195005893707275\n"
          ]
        }
      ]
    },
    {
      "cell_type": "code",
      "source": [
        "log_likelihood= 0.0\n",
        "n=0\n",
        "\n",
        "for w in [\"jithesh\"]:\n",
        "  chs= ['.']+ list(w)+ ['.']\n",
        "  for ch1,ch2 in zip(chs, chs[1:]):\n",
        "    ix1= stoi[ch1]\n",
        "    ix2= stoi[ch2]\n",
        "    prob= P[ix1,ix2]\n",
        "    logprob= torch.log(prob)\n",
        "    log_likelihood += logprob\n",
        "    n +=1\n",
        "print(f'{log_likelihood=}')\n",
        "nll=-log_likelihood\n",
        "print(f'{nll=}')\n",
        "print(f'{nll/n}')"
      ],
      "metadata": {
        "colab": {
          "base_uri": "https://localhost:8080/"
        },
        "id": "1S4ktVvV8_Bm",
        "outputId": "603b492c-fe49-439f-bfd5-a7a8362313bc"
      },
      "execution_count": null,
      "outputs": [
        {
          "output_type": "stream",
          "name": "stdout",
          "text": [
            "log_likelihood=tensor(-20.0124)\n",
            "nll=tensor(20.0124)\n",
            "2.5015556812286377\n"
          ]
        }
      ]
    },
    {
      "cell_type": "markdown",
      "source": [
        "##Trigram Model\n"
      ],
      "metadata": {
        "id": "lzxBR707C_0L"
      }
    },
    {
      "cell_type": "code",
      "source": [
        "# Building Bigram\n",
        "N=torch.zeros((27,27,27),dtype=torch.int32)\n",
        "for w in words[:1]:\n",
        "  for (i,j),k in zip(zip('.'+'.'+w+'.',('.'+'.'+w+'.')[1:]),('.'+'.'+w+'.')[2:]):\n",
        "    print(i,j,\"-->\",k)"
      ],
      "metadata": {
        "colab": {
          "base_uri": "https://localhost:8080/"
        },
        "id": "-B4Fm_jfZRic",
        "outputId": "6dbaa92d-3187-41c6-d535-1e6d0a54ce4d"
      },
      "execution_count": null,
      "outputs": [
        {
          "output_type": "stream",
          "name": "stdout",
          "text": [
            ". . --> e\n",
            ". e --> m\n",
            "e m --> m\n",
            "m m --> a\n",
            "m a --> .\n"
          ]
        }
      ]
    },
    {
      "cell_type": "code",
      "source": [
        "# Building Bigram\n",
        "N=torch.zeros((27,27,27),dtype=torch.int32)\n",
        "for w in words:\n",
        "  for (i,j),k in zip(zip('.'+'.'+w+'.',('.'+'.'+w+'.')[1:]),('.'+'.'+w+'.')[2:]):\n",
        "    N[stoi[i],stoi[j],stoi[k]] +=1"
      ],
      "metadata": {
        "id": "mz6hz2ID-xE1"
      },
      "execution_count": null,
      "outputs": []
    },
    {
      "cell_type": "code",
      "source": [
        "P=N.float()\n",
        "P= P/P.sum(2,keepdim=True)"
      ],
      "metadata": {
        "id": "MsqEI18UDU0N"
      },
      "execution_count": null,
      "outputs": []
    },
    {
      "cell_type": "code",
      "source": [
        "for i in range(10):\n",
        "  ix=0\n",
        "  ix1=0\n",
        "  word=[]\n",
        "  while(True):\n",
        "    ix2=torch.multinomial(P[ix,ix1,:],1).item()\n",
        "    ix=ix1\n",
        "    ix1=ix2\n",
        "    word.append(itos[ix1])\n",
        "    if ix1 ==0:\n",
        "      break\n",
        "  print(\"\".join(word))"
      ],
      "metadata": {
        "colab": {
          "base_uri": "https://localhost:8080/"
        },
        "id": "aiXW4ChIPf5n",
        "outputId": "aeff49e0-050d-4f2e-bc53-d305e661a99f"
      },
      "execution_count": null,
      "outputs": [
        {
          "output_type": "stream",
          "name": "stdout",
          "text": [
            "cavey.\n",
            "luan.\n",
            "am.\n",
            "til.\n",
            "mah.\n",
            "hol.\n",
            "ken.\n",
            "marsonsle.\n",
            "marykel.\n",
            "talexsy.\n"
          ]
        }
      ]
    },
    {
      "cell_type": "markdown",
      "source": [
        "##Tetragram Model\n",
        "run on your own peril\n"
      ],
      "metadata": {
        "id": "i3LwdQqR4uoj"
      }
    },
    {
      "cell_type": "code",
      "source": [
        "N=torch.zeros((27,27,27,27),dtype=torch.int32)\n",
        "for w in words:\n",
        "  for ((i,j),k),l in zip(zip(zip('.'+'.'+'.'+w+'.',('.'+'.'+'.'+w+'.')[1:]),('.'+'.'+'.'+w+'.')[2:]),('.'+'.'+'.'+w+'.')[3:]):\n",
        "    N[stoi[i],stoi[j],stoi[k],stoi[l]] +=1\n",
        "P=N.float()\n",
        "P= P/P.sum(3,keepdim=True)"
      ],
      "metadata": {
        "id": "3YzU3nD4V89Z"
      },
      "execution_count": null,
      "outputs": []
    },
    {
      "cell_type": "code",
      "source": [
        "for i in range(10):\n",
        "  ix=0\n",
        "  ix1=0\n",
        "  ix2=0\n",
        "  word=[]\n",
        "  while(True):\n",
        "    ix3=torch.multinomial(P[ix,ix1,ix2,:],1).item()\n",
        "    ix=ix1\n",
        "    ix1=ix2\n",
        "    ix2=ix3\n",
        "    if ix3 ==0:\n",
        "      break\n",
        "    word.append(itos[ix3])\n",
        "  print(\"\".join(word))"
      ],
      "metadata": {
        "colab": {
          "base_uri": "https://localhost:8080/"
        },
        "id": "F0OXU7Pr6APy",
        "outputId": "bfa41c09-98fb-48c7-e457-26738dc3c6ed"
      },
      "execution_count": null,
      "outputs": [
        {
          "output_type": "stream",
          "name": "stdout",
          "text": [
            "ire\n",
            "rexli\n",
            "yannie\n",
            "javelyne\n",
            "giana\n",
            "rhylin\n",
            "aydaluna\n",
            "naiyannolaramshoshundolyv\n",
            "see\n",
            "jezawid\n"
          ]
        }
      ]
    },
    {
      "cell_type": "markdown",
      "source": [
        "# A one layer NN with one-hot embedding\n",
        "\n"
      ],
      "metadata": {
        "id": "ZHRHHqrPleKg"
      }
    },
    {
      "cell_type": "code",
      "source": [
        "#Compliling the data\n",
        "xs=[]\n",
        "ys=[]\n",
        "for w in words:\n",
        "  chars= ['.']+ list(w) +['.']\n",
        "  for i,j in zip(chars,chars[1:]):\n",
        "    ix1= stoi[i]\n",
        "    ix2= stoi[j]\n",
        "    xs.append(ix1)\n",
        "    ys.append(ix2)\n",
        "xs= torch.tensor(xs) # Input , If you use torch.Tensor dtype becomes float32\n",
        "ys= torch.tensor(ys) # Output"
      ],
      "metadata": {
        "id": "tG5R931nICsc"
      },
      "execution_count": null,
      "outputs": []
    },
    {
      "cell_type": "code",
      "source": [
        "import torch.nn.functional as F\n",
        "#One_hot encodding returns zero tensor of dimension of 27 with index corresponding to the input turned to 1\n",
        "xenc= F.one_hot(xs,num_classes=27).float() #Casted into float.\n",
        "print(xenc.shape)\n",
        "plt.imshow(xenc[:5]) # If you cannot infer structure from a tensor,  just select small part of it then just plot it. :)\n",
        "num= xs.nelement()"
      ],
      "metadata": {
        "colab": {
          "base_uri": "https://localhost:8080/",
          "height": 169
        },
        "id": "9tDLRFucn7rl",
        "outputId": "f38e2f0d-92b6-4991-c7ab-4e9270844541"
      },
      "execution_count": null,
      "outputs": [
        {
          "output_type": "stream",
          "name": "stdout",
          "text": [
            "torch.Size([228146, 27])\n"
          ]
        },
        {
          "output_type": "display_data",
          "data": {
            "text/plain": [
              "<Figure size 640x480 with 1 Axes>"
            ],
            "image/png": "[encoded data removed]"
          },
          "metadata": {}
        }
      ]
    },
    {
      "cell_type": "markdown",
      "source": [
        "A Simple one hidden layer with a softmax function"
      ],
      "metadata": {
        "id": "G9NtlHEjxjxU"
      }
    },
    {
      "cell_type": "code",
      "source": [
        "# We have 27 Neurons Each Neuron takes 27 inputs (One_hot_encoding). Neuron is along colums because we are doing x*W rather than the conventin W*x\n",
        "W= torch.rand((27,27))\n",
        "logits=(xenc @ W ) #logits=Log counts.In our prevoius model we had counts. The current model can be interpreted as outputing log of these counts\n",
        "counts= logits.exp() # Why log? because exp() of NN output gives us positive number that can interpreted as counts or probs.\n",
        "probs = counts/ counts.sum(1, keepdim=True) # N* 27/ N* 1 =>(Brodcasted into) N *27/N*27 . If keep dim=False N*27/N = N * 27/ * N (27 and N mismatch;error)"
      ],
      "metadata": {
        "id": "GC6Iy6wTpLoh"
      },
      "execution_count": null,
      "outputs": []
    },
    {
      "cell_type": "code",
      "source": [
        "#Training\n",
        "g= torch.Generator().manual_seed(2147483647)\n",
        "W= torch.rand((27,27),requires_grad=True,generator=g)\n",
        "epoch=100\n",
        "for k in range(epoch):\n",
        "  #Forward_Pass\n",
        "  logits=xenc @ W\n",
        "  counts= logits.exp()\n",
        "  probs = counts/ counts.sum(1, keepdim=True)\n",
        "  #loss\n",
        "  loss = -1 * probs[np.arange(num),ys].log().mean() + 0.01* (W**2).mean()\n",
        "  if k%(epoch/10) ==0:\n",
        "    print(f\"Avg nll Loss:{loss}\")\n",
        "  W.grad=None\n",
        "  loss.backward()\n",
        "  W.data -= 50*W.grad # To do inplace operation you need W.data, 2.470386028289795"
      ],
      "metadata": {
        "colab": {
          "base_uri": "https://localhost:8080/"
        },
        "id": "P-zX7J_LvDra",
        "outputId": "9ce6f16c-d917-471b-e39b-c53cb5c6dc40"
      },
      "execution_count": null,
      "outputs": [
        {
          "output_type": "stream",
          "name": "stdout",
          "text": [
            "Avg nll Loss:3.3630003929138184\n",
            "Avg nll Loss:2.6191165447235107\n",
            "Avg nll Loss:2.549192428588867\n",
            "Avg nll Loss:2.5238564014434814\n",
            "Avg nll Loss:2.5109965801239014\n",
            "Avg nll Loss:2.5033318996429443\n",
            "Avg nll Loss:2.4983174800872803\n",
            "Avg nll Loss:2.4948277473449707\n",
            "Avg nll Loss:2.492290735244751\n",
            "Avg nll Loss:2.4903860092163086\n"
          ]
        }
      ]
    },
    {
      "cell_type": "markdown",
      "source": [
        "Intuition behind Regularization </br>\n",
        "  In the previous model, we attempted smooth the model by adding 1 to every value of the probability table. Max smoothing results in a unifrom distribution. That is if the values are smooth, every output has the same probaility or every weight is the same. We can add this in our model by addition of W**2 to the loss function. That is we are attempting make all weight zero or make all weight uniform"
      ],
      "metadata": {
        "id": "BPK0NqfA6v16"
      }
    },
    {
      "cell_type": "code",
      "source": [
        "num_words=10\n",
        "for i in range(num_words):\n",
        "  ix=0\n",
        "  new_word=[]\n",
        "  while(True):\n",
        "    xenc1= F.one_hot(torch.tensor(ix),num_classes=27).float()\n",
        "    logits=xenc1 @ W\n",
        "    counts= logits.exp()\n",
        "    probs = counts/ counts.sum()\n",
        "    ix= torch.multinomial(probs,num_samples=1,replacement=True, generator=None).item()\n",
        "    new_word.append(itos[ix])\n",
        "    if(ix==0):\n",
        "      break;\n",
        "  print(\"\".join(new_word))\n"
      ],
      "metadata": {
        "colab": {
          "base_uri": "https://localhost:8080/"
        },
        "id": "VEqhlQwp6ney",
        "outputId": "df9bcdde-e499-41db-895a-0a96a514d11b"
      },
      "execution_count": null,
      "outputs": [
        {
          "output_type": "stream",
          "name": "stdout",
          "text": [
            "tyo.\n",
            "ash.\n",
            "aylyn.\n",
            "araathemintem.\n",
            "ttey.\n",
            "gllibeetor.\n",
            "ksa.\n",
            "y.\n",
            "relelonbalargunn.\n",
            "han.\n"
          ]
        }
      ]
    },
    {
      "cell_type": "markdown",
      "source": [
        "#MLP"
      ],
      "metadata": {
        "id": "plzfmK-5XBS0"
      }
    },
    {
      "cell_type": "code",
      "source": [
        "X,Y =[],[]\n",
        "word_size=3\n",
        "for w in words:\n",
        " # print(f'name= {w}')\n",
        "  context=[0]* word_size\n",
        "  for ch in w+'.':\n",
        "    ix= stoi[ch]\n",
        "    X.append(context)\n",
        "    Y.append(ix)\n",
        "    #print(f'{\"\".join(itos[i] for i in context)}  ----> {itos[ix]}')\n",
        "    context= context[1:]+ [ix]\n",
        "X= torch.tensor(X)\n",
        "Y=torch.tensor(Y)"
      ],
      "metadata": {
        "id": "iIE0hWmM2BmV"
      },
      "execution_count": null,
      "outputs": []
    },
    {
      "cell_type": "code",
      "source": [
        "X.shape"
      ],
      "metadata": {
        "colab": {
          "base_uri": "https://localhost:8080/"
        },
        "id": "53sHoPBdI70F",
        "outputId": "455ce9ce-eb45-479c-edc4-833d32c59d66"
      },
      "execution_count": null,
      "outputs": [
        {
          "output_type": "execute_result",
          "data": {
            "text/plain": [
              "torch.Size([228146, 3])"
            ]
          },
          "metadata": {},
          "execution_count": 20
        }
      ]
    },
    {
      "cell_type": "code",
      "source": [
        "#Network Structure\n",
        "C  = torch.randn((27,2))\n",
        "W1 = torch.randn((6,100))\n",
        "b1 = torch.randn((100))\n",
        "W2 = torch.randn((100,27))\n",
        "b2 = torch.randn((27))\n",
        "parameters=[C,W1,b1,W2,b2]\n",
        "for p in parameters:\n",
        "  p.requires_grad=True;"
      ],
      "metadata": {
        "id": "YiGuJ-Cm5kD8"
      },
      "execution_count": null,
      "outputs": []
    },
    {
      "cell_type": "code",
      "source": [
        "X.shape,C[X].shape"
      ],
      "metadata": {
        "colab": {
          "base_uri": "https://localhost:8080/"
        },
        "id": "BSW7C9AGJbBM",
        "outputId": "12408c43-5886-470e-bbae-c58bab8867fa"
      },
      "execution_count": null,
      "outputs": [
        {
          "output_type": "execute_result",
          "data": {
            "text/plain": [
              "(torch.Size([228146, 3]), torch.Size([228146, 3, 2]))"
            ]
          },
          "metadata": {},
          "execution_count": 22
        }
      ]
    },
    {
      "cell_type": "markdown",
      "source": [
        "##Training"
      ],
      "metadata": {
        "id": "y4iba9ewRkQE"
      }
    },
    {
      "cell_type": "code",
      "source": [
        "#Forward Pass\n",
        "emb=C[X] #indexing w.r.t every single value in X tensor. Shape= [X,block_size,2]\n",
        "h= torch.tanh(emb.view(-1,6) @ W1 + b1) # 6 because block_size=3 *2 =6 . shape= [X,100]\n",
        "logits = h @ W2 + b2\n",
        "# counts = logits.exp()\n",
        "# probs = counts/ counts.sum(1,keepdim=True)\n",
        "# loss =-probs[torch.arange(32),Y].log().mean()\n",
        "loss= F.cross_entropy(logits,Y)\n",
        "loss"
      ],
      "metadata": {
        "colab": {
          "base_uri": "https://localhost:8080/"
        },
        "id": "LHTNJVghDO1Y",
        "outputId": "171e48b9-dfb3-4696-a85e-883a68923984"
      },
      "execution_count": null,
      "outputs": [
        {
          "output_type": "execute_result",
          "data": {
            "text/plain": [
              "tensor(19.1712, grad_fn=<NllLossBackward0>)"
            ]
          },
          "metadata": {},
          "execution_count": 23
        }
      ]
    },
    {
      "cell_type": "code",
      "source": [
        "#Training\n",
        "epoch=100000\n",
        "for i in range(epoch):\n",
        "  ix= torch.randint(0,X.shape[0],(32,))\n",
        "  emb=C[X[ix]]\n",
        "  h= torch.tanh(emb.view(-1,6) @ W1 + b1)\n",
        "  logits = h @ W2 + b2\n",
        "  loss= F.cross_entropy(logits,Y[ix])\n",
        "  if i% (epoch/10) ==0:\n",
        "    print(loss.item())\n",
        "  for p in parameters:\n",
        "    p.grad=None;\n",
        "  loss.backward()\n",
        "  for p in parameters:\n",
        "    p.data -=0.1 *p.grad"
      ],
      "metadata": {
        "colab": {
          "base_uri": "https://localhost:8080/"
        },
        "id": "zn3KKGgbFHQT",
        "outputId": "81f0da99-6923-4ef6-abf9-cf677cc18850"
      },
      "execution_count": null,
      "outputs": [
        {
          "output_type": "stream",
          "name": "stdout",
          "text": [
            "9.432333946228027\n",
            "2.3038008213043213\n",
            "2.3117563724517822\n",
            "2.60101580619812\n",
            "2.4816956520080566\n",
            "2.532094717025757\n",
            "2.0966603755950928\n",
            "2.5064187049865723\n",
            "2.444317579269409\n",
            "2.246396780014038\n"
          ]
        }
      ]
    },
    {
      "cell_type": "markdown",
      "source": [
        "##Choosing better LR\n"
      ],
      "metadata": {
        "id": "5vmvJtjuPCHt"
      }
    },
    {
      "cell_type": "code",
      "source": [
        "lre = torch.linspace(-3, 0, 1000) # Exponential makes sure that we lrs from close to 0 to 1. But never equal to zero\n",
        "lrs = 10**lre"
      ],
      "metadata": {
        "id": "WAjMPVX5Gpof"
      },
      "execution_count": null,
      "outputs": []
    },
    {
      "cell_type": "code",
      "source": [
        "lri = []\n",
        "lossi = []\n",
        "for i in range(1000):\n",
        "    # minibatch construct\n",
        "  ix = torch.randint(0, X.shape[0], (32,)) # Batch size can often be too low that gradient may fluctuate. So sometimes we need more accurate gradient.\n",
        "\n",
        "  # forward pass\n",
        "  emb = C[X[ix]] # (32, 3, 10)\n",
        "  h= torch.tanh(emb.view(-1,6) @ W1 + b1) # (32, 200)\n",
        "  logits = h @ W2 + b2 # (32, 27)\n",
        "  loss = F.cross_entropy(logits, Y[ix])\n",
        "  #print(loss.item())\n",
        "  # backward pass\n",
        "  for p in parameters:\n",
        "    p.grad = None\n",
        "  loss.backward()\n",
        "\n",
        "  # update\n",
        "  lr = lrs[i]\n",
        "  for p in parameters:\n",
        "    p.data += -lr * p.grad\n",
        "\n",
        "  # track stats\n",
        "  lri.append(lr)\n",
        "  lossi.append(loss.item())\n",
        "\n",
        "#print(loss.item())"
      ],
      "metadata": {
        "id": "825BCw1YPHcQ"
      },
      "execution_count": null,
      "outputs": []
    },
    {
      "cell_type": "code",
      "source": [
        "plt.plot(lrs,lossi)"
      ],
      "metadata": {
        "colab": {
          "base_uri": "https://localhost:8080/",
          "height": 447
        },
        "id": "cDw5VoqlQdoX",
        "outputId": "90c0e031-bcd6-4291-ab8e-5cdcf7da1152"
      },
      "execution_count": null,
      "outputs": [
        {
          "output_type": "execute_result",
          "data": {
            "text/plain": [
              "[<matplotlib.lines.Line2D at 0x7a23040c3910>]"
            ]
          },
          "metadata": {},
          "execution_count": 32
        },
        {
          "output_type": "display_data",
          "data": {
            "text/plain": [
              "<Figure size 640x480 with 1 Axes>"
            ],
            "image/png": "[encoded data removed]"
          },
          "metadata": {}
        }
      ]
    },
    {
      "cell_type": "code",
      "source": [
        "plt.plot(lre,lossi)"
      ],
      "metadata": {
        "colab": {
          "base_uri": "https://localhost:8080/",
          "height": 447
        },
        "id": "cDG3uyalQr2N",
        "outputId": "317c7c77-b60a-471e-a662-115689510bcc"
      },
      "execution_count": null,
      "outputs": [
        {
          "output_type": "execute_result",
          "data": {
            "text/plain": [
              "[<matplotlib.lines.Line2D at 0x7a2301cf97b0>]"
            ]
          },
          "metadata": {},
          "execution_count": 33
        },
        {
          "output_type": "display_data",
          "data": {
            "text/plain": [
              "<Figure size 640x480 with 1 Axes>"
            ],
            "image/png": "[encoded data removed]"
          },
          "metadata": {}
        }
      ]
    },
    {
      "cell_type": "code",
      "source": [],
      "metadata": {
        "id": "uRj_NHgf-SjJ"
      },
      "execution_count": null,
      "outputs": []
    },
    {
      "cell_type": "markdown",
      "source": [
        "## Train/Test Val"
      ],
      "metadata": {
        "id": "6laONOThTtv1"
      }
    },
    {
      "cell_type": "markdown",
      "source": [],
      "metadata": {
        "id": "_SU5lF8XTtsD"
      }
    },
    {
      "cell_type": "code",
      "source": [
        "plt.figure(figsize=[8,8])\n",
        "plt.scatter(C[:,0].data,C[:,1].data,s=200)\n",
        "for i in range(C.shape[0]):\n",
        "  plt.text(C[i,0].item(),C[i,1].item(),itos[i],ha='center',va='center',color='white')"
      ],
      "metadata": {
        "id": "Fs2_6XArul7s",
        "colab": {
          "base_uri": "https://localhost:8080/",
          "height": 676
        },
        "outputId": "201a8fae-4671-4094-d3fe-877ac2cbfdb9"
      },
      "execution_count": null,
      "outputs": [
        {
          "output_type": "display_data",
          "data": {
            "text/plain": [
              "<Figure size 800x800 with 1 Axes>"
            ],
            "image/png": "[encoded data removed]"
          },
          "metadata": {}
        }
      ]
    },
    {
      "cell_type": "markdown",
      "source": [
        "Inferring from embedding- Vowels are together. q and . are not clustered. That is they are unique"
      ],
      "metadata": {
        "id": "BnPejpPm_1v3"
      }
    },
    {
      "cell_type": "markdown",
      "source": [
        "#Trash\n"
      ],
      "metadata": {
        "id": "xDXF6-dWWxaB"
      }
    },
    {
      "cell_type": "code",
      "source": [],
      "metadata": {
        "id": "ltsw6hp-WxLb"
      },
      "execution_count": null,
      "outputs": []
    }
  ]
}